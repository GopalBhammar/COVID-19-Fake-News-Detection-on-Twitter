{
 "cells": [
  {
   "cell_type": "code",
   "execution_count": 1,
   "id": "4019af5b-57b4-4ab7-83bb-9cc069915fac",
   "metadata": {},
   "outputs": [
    {
     "name": "stdout",
     "output_type": "stream",
     "text": [
      "Accuracy: 0.9452830188679245\n",
      "Classification Report:\n",
      "               precision    recall  f1-score   support\n",
      "\n",
      "        fake       0.94      0.95      0.94       513\n",
      "        real       0.95      0.94      0.95       547\n",
      "\n",
      "    accuracy                           0.95      1060\n",
      "   macro avg       0.95      0.95      0.95      1060\n",
      "weighted avg       0.95      0.95      0.95      1060\n",
      "\n"
     ]
    }
   ],
   "source": [
    "import pandas as pd\n",
    "from sklearn.model_selection import train_test_split, GridSearchCV\n",
    "from sklearn.feature_extraction.text import TfidfVectorizer\n",
    "from sklearn.svm import SVC\n",
    "from sklearn.metrics import accuracy_score, classification_report\n",
    "import pickle\n",
    "\n",
    "# Load your precomputed TF-IDF features\n",
    "dbfile = open('Train', 'rb')\n",
    "Train_idf = pickle.load(dbfile)\n",
    "dbfile = open('Validate', 'rb')\n",
    "Validate_idf = pickle.load(dbfile)\n",
    "\n",
    "y_train = pd.read_csv(\"train_data.csv\")['y']\n",
    "y_val = pd.read_csv(\"validate_data.csv\")['y']\n",
    "\n",
    "# Define the parameter grid for GridSearchCV\n",
    "# Initialize the SVM model\n",
    "svm_model = SVC()\n",
    "\n",
    "# Train the model on the training set\n",
    "svm_model.fit(Train_idf, y_train)\n",
    "\n",
    "# Make predictions on the test set\n",
    "y_pred = svm_model.predict(Validate_idf)\n",
    "\n",
    "# Print accuracy and classification report\n",
    "accuracy = accuracy_score(y_val, y_pred)\n",
    "print(\"Accuracy:\", accuracy)\n",
    "print(\"Classification Report:\\n\", classification_report(y_val, y_pred))"
   ]
  },
  {
   "cell_type": "code",
   "execution_count": null,
   "id": "b71d0598-df5d-472d-89fe-4623e92c499a",
   "metadata": {},
   "outputs": [],
   "source": [
    "# Display the DataFrame with TF-IDF vector representations\n",
    "dbfile = open('SVM', 'ab')\n",
    "pickle.dump(svm_model, dbfile)\n",
    "dbfile.close()"
   ]
  }
 ],
 "metadata": {
  "kernelspec": {
   "display_name": "venv",
   "language": "python",
   "name": "venv"
  },
  "language_info": {
   "codemirror_mode": {
    "name": "ipython",
    "version": 3
   },
   "file_extension": ".py",
   "mimetype": "text/x-python",
   "name": "python",
   "nbconvert_exporter": "python",
   "pygments_lexer": "ipython3",
   "version": "3.12.1"
  }
 },
 "nbformat": 4,
 "nbformat_minor": 5
}
