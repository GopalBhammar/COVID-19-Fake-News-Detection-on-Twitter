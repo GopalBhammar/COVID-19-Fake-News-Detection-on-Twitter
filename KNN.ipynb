{
 "cells": [
  {
   "cell_type": "code",
   "execution_count": 1,
   "metadata": {
    "colab": {
     "base_uri": "https://localhost:8080/",
     "height": 365
    },
    "id": "XEHDCUb2Prax",
    "outputId": "84e6b431-2d59-48a3-83d0-57868a7dc497"
   },
   "outputs": [
    {
     "name": "stdout",
     "output_type": "stream",
     "text": [
      "Validation Accuracy: 0.9113207547169812\n",
      "Validation Classification Report:\n",
      "               precision    recall  f1-score   support\n",
      "\n",
      "        fake       0.92      0.90      0.91       513\n",
      "        real       0.91      0.92      0.91       547\n",
      "\n",
      "    accuracy                           0.91      1060\n",
      "   macro avg       0.91      0.91      0.91      1060\n",
      "weighted avg       0.91      0.91      0.91      1060\n",
      "\n"
     ]
    }
   ],
   "source": [
    "import pickle\n",
    "import pandas as pd\n",
    "from sklearn.model_selection import train_test_split, GridSearchCV\n",
    "from sklearn.neighbors import KNeighborsClassifier\n",
    "from sklearn.metrics import accuracy_score, classification_report\n",
    "\n",
    "# Load your precomputed TF-IDF features\n",
    "dbfile = open('Train', 'rb')\n",
    "Train_idf = pickle.load(dbfile)\n",
    "dbfile = open('Validate', 'rb')\n",
    "Validate_idf = pickle.load(dbfile)\n",
    "\n",
    "# Assuming you have labels corresponding to the TF-IDF features\n",
    "# Replace this with your actual labels\n",
    "y_train = pd.read_csv(\"train_data.csv\")['y']\n",
    "y_val = pd.read_csv(\"validate_data.csv\")['y']\n",
    "\n",
    "n_neighbors = 7\n",
    "metric = 'euclidean'\n",
    "\n",
    "# Create K-nearest Neighbor classifier with fixed hyperparameters\n",
    "knn = KNeighborsClassifier(n_neighbors=n_neighbors, metric=metric)\n",
    "\n",
    "# Train the model on the training set\n",
    "knn.fit(Train_idf, y_train)\n",
    "\n",
    "# Evaluate the model on the validation set\n",
    "y_val_pred = knn.predict(Validate_idf)\n",
    "\n",
    "# Print accuracy and classification report for validation set\n",
    "accuracy_val = accuracy_score(y_val, y_val_pred)\n",
    "print(\"Validation Accuracy:\", accuracy_val)\n",
    "print(\"Validation Classification Report:\\n\", classification_report(y_val, y_val_pred))"
   ]
  },
  {
   "cell_type": "code",
   "execution_count": null,
   "metadata": {},
   "outputs": [],
   "source": [
    "# Display the DataFrame with TF-IDF vector representations\n",
    "dbfile = open('KNN', 'ab')\n",
    "pickle.dump(knn, dbfile)\n",
    "dbfile.close()"
   ]
  }
 ],
 "metadata": {
  "colab": {
   "provenance": []
  },
  "kernelspec": {
   "display_name": "venv",
   "language": "python",
   "name": "venv"
  },
  "language_info": {
   "codemirror_mode": {
    "name": "ipython",
    "version": 3
   },
   "file_extension": ".py",
   "mimetype": "text/x-python",
   "name": "python",
   "nbconvert_exporter": "python",
   "pygments_lexer": "ipython3",
   "version": "3.12.1"
  }
 },
 "nbformat": 4,
 "nbformat_minor": 4
}
