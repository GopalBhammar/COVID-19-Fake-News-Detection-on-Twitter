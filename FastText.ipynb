{
 "cells": [
  {
   "cell_type": "code",
   "execution_count": 3,
   "id": "3ede67a2-e846-4537-bee6-d8fbc27f49e6",
   "metadata": {},
   "outputs": [
    {
     "name": "stderr",
     "output_type": "stream",
     "text": [
      "Read 0M words\n",
      "Number of words:  16113\n",
      "Number of labels: 2\n",
      "Progress:  91.7% words/sec/thread: 1152413 lr:  0.083454 avg.loss:  0.020076 ETA:   0h 0m 0s"
     ]
    },
    {
     "name": "stdout",
     "output_type": "stream",
     "text": [
      "Validation Accuracy: 0.9462264150943396\n",
      "Validation Classification Report:\n",
      "               precision    recall  f1-score   support\n",
      "\n",
      "        fake       0.94      0.95      0.94       513\n",
      "        real       0.95      0.95      0.95       547\n",
      "\n",
      "    accuracy                           0.95      1060\n",
      "   macro avg       0.95      0.95      0.95      1060\n",
      "weighted avg       0.95      0.95      0.95      1060\n",
      "\n",
      "Validation Accuracy: 0.9462264150943396\n",
      "Validation Classification Report:\n",
      "               precision    recall  f1-score   support\n",
      "\n",
      "        fake       0.94      0.95      0.94       513\n",
      "        real       0.95      0.95      0.95       547\n",
      "\n",
      "    accuracy                           0.95      1060\n",
      "   macro avg       0.95      0.95      0.95      1060\n",
      "weighted avg       0.95      0.95      0.95      1060\n",
      "\n"
     ]
    },
    {
     "name": "stderr",
     "output_type": "stream",
     "text": [
      "Progress: 100.0% words/sec/thread: 1101643 lr:  0.000000 avg.loss:  0.018592 ETA:   0h 0m 0s\n"
     ]
    }
   ],
   "source": [
    "import pandas as pd\n",
    "import fasttext\n",
    "from sklearn.metrics import accuracy_score, classification_report\n",
    "import pickle\n",
    "# Assuming you have labels corresponding to the TF-IDF features\n",
    "# Replace this with your actual labels\n",
    "df_train = pd.read_csv(\"train_data.csv\")\n",
    "df_val = pd.read_csv(\"validate_data.csv\")\n",
    "\n",
    "# Format the training data in the fastText format\n",
    "train_data = []\n",
    "for index, row in df_train.iterrows():\n",
    "    label = f'__label__{row[\"y\"]}'  # Assuming 'y' is the label column\n",
    "    text = row[\"X\"]  # Assuming 'X' is the text column\n",
    "    train_data.append(f'{label} {text}')\n",
    "\n",
    "with open('train.txt', 'w') as f:\n",
    "    f.write('\\n'.join(train_data))\n",
    "\n",
    "# Train FastText model\n",
    "model = fasttext.train_supervised(input='train.txt', epoch=25, lr=1.0, wordNgrams=2)\n",
    "\n",
    "# Evaluate the model on the validation set\n",
    "y_val_pred = model.predict(df_val['X'].tolist())\n",
    "y_val_pred_labels = [label[0].replace('__label__', '') for label in y_val_pred[0]]\n",
    "\n",
    "# Print accuracy and classification report for validation set\n",
    "accuracy_val = accuracy_score(df_val['y'].tolist(), y_val_pred_labels)\n",
    "print(\"Validation Accuracy:\", accuracy_val)\n",
    "print(\"Validation Classification Report:\\n\", classification_report(df_val['y'].tolist(), y_val_pred_labels))\n",
    "\n",
    "# Print accuracy and classification report for validation set\n",
    "accuracy_val = accuracy_score(df_val['y'].tolist(), y_val_pred_labels)\n",
    "print(\"Validation Accuracy:\", accuracy_val)\n",
    "print(\"Validation Classification Report:\\n\", classification_report(df_val['y'].tolist(), y_val_pred_labels))\n"
   ]
  },
  {
   "cell_type": "code",
   "execution_count": 5,
   "id": "81f03822-279a-48c7-84dc-8d44088c5143",
   "metadata": {},
   "outputs": [],
   "source": [
    "model.save_model('FastText.bin')"
   ]
  },
  {
   "cell_type": "code",
   "execution_count": null,
   "id": "6f12f577-9a1e-4f85-965b-1e07472eed4c",
   "metadata": {},
   "outputs": [],
   "source": []
  }
 ],
 "metadata": {
  "kernelspec": {
   "display_name": "venv",
   "language": "python",
   "name": "venv"
  },
  "language_info": {
   "codemirror_mode": {
    "name": "ipython",
    "version": 3
   },
   "file_extension": ".py",
   "mimetype": "text/x-python",
   "name": "python",
   "nbconvert_exporter": "python",
   "pygments_lexer": "ipython3",
   "version": "3.12.1"
  }
 },
 "nbformat": 4,
 "nbformat_minor": 5
}
