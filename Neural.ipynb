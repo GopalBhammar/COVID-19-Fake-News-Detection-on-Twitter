{
 "cells": [
  {
   "cell_type": "code",
   "execution_count": 1,
   "id": "bcdb6552-5dfa-4ba5-9d26-2f4831c9cf7c",
   "metadata": {},
   "outputs": [
    {
     "name": "stdout",
     "output_type": "stream",
     "text": [
      "Validation Accuracy: 0.9424528301886792\n",
      "Validation Classification Report:\n",
      "               precision    recall  f1-score   support\n",
      "\n",
      "        fake       0.95      0.93      0.94       513\n",
      "        real       0.94      0.95      0.94       547\n",
      "\n",
      "    accuracy                           0.94      1060\n",
      "   macro avg       0.94      0.94      0.94      1060\n",
      "weighted avg       0.94      0.94      0.94      1060\n",
      "\n"
     ]
    }
   ],
   "source": [
    "import pickle\n",
    "import pandas as pd\n",
    "from sklearn.model_selection import train_test_split, GridSearchCV\n",
    "from sklearn.neural_network import MLPClassifier\n",
    "from sklearn.metrics import accuracy_score, classification_report\n",
    "\n",
    "# Load your precomputed TF-IDF features\n",
    "dbfile = open('Train', 'rb')\n",
    "Train_idf = pickle.load(dbfile)\n",
    "dbfile = open('Validate', 'rb')\n",
    "Validate_idf = pickle.load(dbfile)\n",
    "\n",
    "# Assuming you have labels corresponding to the TF-IDF features\n",
    "# Replace this with your actual labels\n",
    "y_train = pd.read_csv(\"train_data.csv\")['y']\n",
    "y_val = pd.read_csv(\"validate_data.csv\")['y']\n",
    "\n",
    "mlp_model = MLPClassifier(max_iter=1000)\n",
    "\n",
    "# Train the model on the training set\n",
    "mlp_model.fit(Train_idf, y_train)\n",
    "\n",
    "# Evaluate the model on the validation set\n",
    "y_pred = mlp_model.predict(Validate_idf)\n",
    "\n",
    "\n",
    "# Print accuracy and classification report for validation set\n",
    "accuracy_val = accuracy_score(y_val, y_pred)\n",
    "print(\"Validation Accuracy:\", accuracy_val)\n",
    "print(\"Validation Classification Report:\\n\", classification_report(y_val, y_pred))"
   ]
  },
  {
   "cell_type": "code",
   "execution_count": 2,
   "id": "07464cb1-51b5-4d67-96d5-847303b253bb",
   "metadata": {},
   "outputs": [],
   "source": [
    "# Display the DataFrame with TF-IDF vector representations\n",
    "dbfile = open('Neural', 'ab')\n",
    "pickle.dump(mlp_model, dbfile)\n",
    "dbfile.close()"
   ]
  },
  {
   "cell_type": "code",
   "execution_count": null,
   "id": "9db7078c-26aa-42e6-b90c-baf7bb156472",
   "metadata": {},
   "outputs": [],
   "source": []
  }
 ],
 "metadata": {
  "kernelspec": {
   "display_name": "venv",
   "language": "python",
   "name": "venv"
  },
  "language_info": {
   "codemirror_mode": {
    "name": "ipython",
    "version": 3
   },
   "file_extension": ".py",
   "mimetype": "text/x-python",
   "name": "python",
   "nbconvert_exporter": "python",
   "pygments_lexer": "ipython3",
   "version": "3.12.1"
  }
 },
 "nbformat": 4,
 "nbformat_minor": 5
}
