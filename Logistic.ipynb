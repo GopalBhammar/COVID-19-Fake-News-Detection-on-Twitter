{
 "cells": [
  {
   "cell_type": "code",
   "execution_count": 3,
   "metadata": {
    "colab": {
     "base_uri": "https://localhost:8080/"
    },
    "id": "gkbFxLM93nd7",
    "outputId": "d0cb5003-3315-4b4c-b99e-2e551564dd1a"
   },
   "outputs": [
    {
     "name": "stdout",
     "output_type": "stream",
     "text": [
      "Validation Accuracy: 0.9292452830188679\n",
      "Validation Classification Report:\n",
      "               precision    recall  f1-score   support\n",
      "\n",
      "        fake       0.92      0.93      0.93       513\n",
      "        real       0.93      0.93      0.93       547\n",
      "\n",
      "    accuracy                           0.93      1060\n",
      "   macro avg       0.93      0.93      0.93      1060\n",
      "weighted avg       0.93      0.93      0.93      1060\n",
      "\n"
     ]
    }
   ],
   "source": [
    "import pickle\n",
    "import pandas as pd\n",
    "from sklearn.model_selection import train_test_split, GridSearchCV\n",
    "from sklearn.linear_model import LogisticRegression\n",
    "from sklearn.metrics import accuracy_score, classification_report\n",
    "\n",
    "# Load your precomputed TF-IDF features\n",
    "dbfile = open('Train', 'rb')\n",
    "Train_idf = pickle.load(dbfile)\n",
    "dbfile = open('Validate', 'rb')\n",
    "Validate_idf = pickle.load(dbfile)\n",
    "\n",
    "# Assuming you have labels corresponding to the TF-IDF features\n",
    "# Replace this with your actual labels\n",
    "y_train = pd.read_csv(\"train_data.csv\")['y']\n",
    "y_val = pd.read_csv(\"validate_data.csv\")['y']\n",
    "\n",
    "logistic_model = LogisticRegression()\n",
    "\n",
    "# Train the model on the training set\n",
    "logistic_model.fit(Train_idf, y_train)\n",
    "\n",
    "# Make predictions on the test set\n",
    "y_pred = logistic_model.predict(Validate_idf)\n",
    "\n",
    "# Print accuracy and classification report for validation set\n",
    "accuracy_val = accuracy_score(y_val, y_pred)\n",
    "print(\"Validation Accuracy:\", accuracy_val)\n",
    "print(\"Validation Classification Report:\\n\", classification_report(y_val, y_pred))"
   ]
  },
  {
   "cell_type": "code",
   "execution_count": null,
   "metadata": {},
   "outputs": [],
   "source": [
    "# Display the DataFrame with TF-IDF vector representations\n",
    "dbfile = open('Logistic', 'ab')\n",
    "pickle.dump(logistic_model, dbfile)\n",
    "dbfile.close()"
   ]
  }
 ],
 "metadata": {
  "colab": {
   "provenance": []
  },
  "kernelspec": {
   "display_name": "venv",
   "language": "python",
   "name": "venv"
  },
  "language_info": {
   "codemirror_mode": {
    "name": "ipython",
    "version": 3
   },
   "file_extension": ".py",
   "mimetype": "text/x-python",
   "name": "python",
   "nbconvert_exporter": "python",
   "pygments_lexer": "ipython3",
   "version": "3.12.1"
  }
 },
 "nbformat": 4,
 "nbformat_minor": 4
}
